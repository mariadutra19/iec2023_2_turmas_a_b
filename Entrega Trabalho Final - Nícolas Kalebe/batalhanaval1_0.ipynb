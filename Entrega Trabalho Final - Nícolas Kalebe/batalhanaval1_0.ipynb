{
  "cells": [
    {
      "cell_type": "markdown",
      "metadata": {
        "id": "view-in-github",
        "colab_type": "text"
      },
      "source": [
        "<a href=\"https://colab.research.google.com/github/Nicolas-Kalebe/iec2023_2_turmas_a_b/blob/main/Entregas%20-%20N%C3%ADcolas%20Kalebe/batalhanaval1_0.ipynb\" target=\"_parent\"><img src=\"https://colab.research.google.com/assets/colab-badge.svg\" alt=\"Open In Colab\"/></a>"
      ]
    },
    {
      "cell_type": "code",
      "execution_count": null,
      "id": "a8eed6ac",
      "metadata": {
        "colab": {
          "base_uri": "https://localhost:8080/"
        },
        "id": "a8eed6ac",
        "outputId": "8e2c173d-7188-4c6c-8488-915aaaa76550"
      },
      "outputs": [
        {
          "output_type": "stream",
          "name": "stdout",
          "text": [
            "Requirement already satisfied: colorama in /usr/local/lib/python3.10/dist-packages (0.4.6)\n",
            "\u001b[1m\u001b[34m\n",
            "  ___     _     _____     _     _      _  _     _       _  _     _    __   __    _     _\n",
            " | _ )   /_\\   |_   _|   /_\\   | |    | || |   /_\\     | \\| |   /_\\   \\ \\ / /   /_\\   | |\n",
            " | _ \\  / _ \\    | |    / _ \\  | |__  | __ |  / _ \\    | .` |  / _ \\   \\ V /   / _ \\  | |__\n",
            " |___/ /_/ \\_\\   |_|   /_/ \\_\\ |____| |_||_| /_/ \\_\\   |_|\\_| /_/ \\_\\   \\_/   /_/ \\_\\ |____|\n",
            "\n",
            "\u001b[0m\n",
            "\u001b[1m\u001b[34mBem-vindo ao Jogo de Batalha Naval!\u001b[0m\n",
            "  \u001b[31mA \u001b[31mB \u001b[31mC \u001b[31mD \u001b[31mE \u001b[31mF\u001b[39m\n",
            "\u001b[31m1 \u001b[39m\u001b[36mO\u001b[39m \u001b[36mO\u001b[39m \u001b[36mO\u001b[39m \u001b[36mO\u001b[39m \u001b[36mO\u001b[39m \u001b[36mO\u001b[39m \n",
            "\u001b[31m2 \u001b[39m\u001b[36mO\u001b[39m \u001b[36mO\u001b[39m \u001b[36mO\u001b[39m \u001b[36mO\u001b[39m \u001b[36mO\u001b[39m \u001b[36mO\u001b[39m \n",
            "\u001b[31m3 \u001b[39m\u001b[36mO\u001b[39m \u001b[36mO\u001b[39m \u001b[36mO\u001b[39m \u001b[36mO\u001b[39m \u001b[36mO\u001b[39m \u001b[36mO\u001b[39m \n",
            "\u001b[31m4 \u001b[39m\u001b[36mO\u001b[39m \u001b[36mO\u001b[39m \u001b[36mO\u001b[39m \u001b[36mO\u001b[39m \u001b[36mO\u001b[39m \u001b[36mO\u001b[39m \n",
            "\u001b[31m5 \u001b[39m\u001b[36mO\u001b[39m \u001b[36mO\u001b[39m \u001b[36mO\u001b[39m \u001b[36mO\u001b[39m \u001b[36mO\u001b[39m \u001b[36mO\u001b[39m \n",
            "\u001b[31m6 \u001b[39m\u001b[36mO\u001b[39m \u001b[36mO\u001b[39m \u001b[36mO\u001b[39m \u001b[36mO\u001b[39m \u001b[36mO\u001b[39m \u001b[36mO\u001b[39m \n",
            "\u001b[1m\u001b[32mSeus pontos: 0\u001b[0m\n"
          ]
        }
      ],
      "source": [
        "!pip install colorama\n",
        "import random\n",
        "\n",
        "from colorama import Fore, Style\n",
        "\n",
        "# Define as cores\n",
        "cor_vermelha = Fore.RED\n",
        "cor_azul = Fore.BLUE\n",
        "cor_reset = Style.RESET_ALL\n",
        "\n",
        "def criar_tabuleiro():\n",
        "    return [['O' for _ in range(6)] for _ in range(6)]\n",
        "\n",
        "def exibir_tabuleiro(tabuleiro, mostrar_navios=False):\n",
        "    print(\"  \" + \" \".join([Fore.RED + chr(65 + i) for i in range(len(tabuleiro[0]))]) + Fore.RESET)\n",
        "    for i, linha in enumerate(tabuleiro):\n",
        "        print(Fore.RED + f\"{i + 1}\", end=' ' + Fore.RESET)\n",
        "        for celula in linha:\n",
        "            if celula == 'O':\n",
        "                print(Fore.CYAN + 'O' + Fore.RESET, end=' ')\n",
        "            elif celula in ('N', 'S') and not mostrar_navios:\n",
        "                print(Fore.CYAN + 'O' + Fore.RESET, end=' ')\n",
        "            else:\n",
        "                print(celula, end=' ')\n",
        "        print()\n",
        "\n",
        "def posicionar_navios_e_submarinos(tabuleiro, num_navios=6, num_submarinos=3):\n",
        "    for _ in range(num_navios):\n",
        "        while True:\n",
        "            posicao = (random.randint(0, 5), random.randint(0, 5))\n",
        "            if tabuleiro[posicao[0]][posicao[1]] == 'O':\n",
        "                tabuleiro[posicao[0]][posicao[1]] = 'N'\n",
        "                break\n",
        "\n",
        "    for _ in range(num_submarinos):\n",
        "        while True:\n",
        "            posicao = (random.randint(0, 5), random.randint(0, 5))\n",
        "            if tabuleiro[posicao[0]][posicao[1]] == 'O':\n",
        "                tabuleiro[posicao[0]][posicao[1]] = 'S'\n",
        "                break\n",
        "\n",
        "def atirar(tabuleiro, tentativa, pontos):\n",
        "    linha, coluna = tentativa\n",
        "    if tabuleiro[linha][coluna] == 'N':\n",
        "        print(Fore.GREEN + \"Você acertou um navio! Ganhou 1 ponto.\")\n",
        "        pontos[0] += 1\n",
        "        tabuleiro[linha][coluna] = 'X'\n",
        "    elif tabuleiro[linha][coluna] == 'S':\n",
        "        print(Fore.GREEN + \"Você afundou um submarino! Ganhou 3 pontos.\")\n",
        "        pontos[0] += 3\n",
        "        tabuleiro[linha][coluna] = 'X'\n",
        "    else:\n",
        "        print(Fore.RED + \"Você errou!\")\n",
        "\n",
        "def debug_mostrar_navios(tabuleiro):\n",
        "    print(\"Tabuleiro com Navios e Submarinos:\")\n",
        "    exibir_tabuleiro(tabuleiro, mostrar_navios=True)\n",
        "\n",
        "def main():\n",
        "    ascii_art = \"\"\"\n",
        "  ___     _     _____     _     _      _  _     _       _  _     _    __   __    _     _\n",
        " | _ )   /_\\\\   |_   _|   /_\\\\   | |    | || |   /_\\\\     | \\\\| |   /_\\\\   \\\\ \\\\ / /   /_\\\\   | |\n",
        " | _ \\\\  / _ \\\\    | |    / _ \\\\  | |__  | __ |  / _ \\\\    | .` |  / _ \\\\   \\\\ V /   / _ \\\\  | |__\n",
        " |___/ /_/ \\\\_\\\\   |_|   /_/ \\\\_\\\\ |____| |_||_| /_/ \\\\_\\\\   |_|\\\\_| /_/ \\\\_\\\\   \\\\_/   /_/ \\\\_\\\\ |____|\n",
        "\n",
        "\"\"\"\n",
        "\n",
        "    print(\"\\033[1m\" + cor_azul + ascii_art + cor_reset)\n",
        "\n",
        "    print(\"\\033[1m\" + cor_azul + \"Bem-vindo ao Jogo de Batalha Naval!\" + cor_reset)\n",
        "\n",
        "    tabuleiro = criar_tabuleiro()\n",
        "    pontos = [0]  # Usaremos uma lista para permitir alterações dentro da função atirar\n",
        "    posicionar_navios_e_submarinos(tabuleiro)\n",
        "\n",
        "    while True:\n",
        "        exibir_tabuleiro(tabuleiro)\n",
        "        print(\"\\033[1m\" + Fore.GREEN + f\"Seus pontos: {pontos[0]}\" + cor_reset)\n",
        "\n",
        "        try:\n",
        "            tentativa = input(\"Faça sua jogada (ex: A3) ou digite 'DEBUG' para mostrar os navios: \").upper()\n",
        "            if tentativa == 'SAIR':\n",
        "                print(f\"Obrigado por jogar! Você marcou {pontos[0]} pontos. Até a próxima!\")\n",
        "                break\n",
        "            elif tentativa == 'DEBUG':\n",
        "                debug_mostrar_navios(tabuleiro)\n",
        "                continue\n",
        "\n",
        "            coluna = ord(tentativa[0]) - ord('A')\n",
        "            linha = int(tentativa[1]) - 1  # Ajuste para começar em 1\n",
        "            atirar(tabuleiro, (linha, coluna), pontos)\n",
        "        except (ValueError, IndexError):\n",
        "            print(\"Entrada inválida. Tente novamente.\")\n",
        "\n",
        "        navios_submarinos_restantes = sum(linha.count('N') + linha.count('S') for linha in tabuleiro)\n",
        "        if navios_submarinos_restantes == 0:\n",
        "            print(Fore.MAGENTA + f\"Parabéns! Você afundou todos os navios e submarinos. Você marcou {pontos[0]} pontos. Você venceu!\")\n",
        "            break\n",
        "\n",
        "if __name__ == \"__main__\":\n",
        "    main()\n"
      ]
    }
  ],
  "metadata": {
    "kernelspec": {
      "display_name": "Python 3 (ipykernel)",
      "language": "python",
      "name": "python3"
    },
    "language_info": {
      "codemirror_mode": {
        "name": "ipython",
        "version": 3
      },
      "file_extension": ".py",
      "mimetype": "text/x-python",
      "name": "python",
      "nbconvert_exporter": "python",
      "pygments_lexer": "ipython3",
      "version": "3.11.5"
    },
    "colab": {
      "provenance": [],
      "include_colab_link": true
    }
  },
  "nbformat": 4,
  "nbformat_minor": 5
}